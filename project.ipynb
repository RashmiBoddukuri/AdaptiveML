{
  "nbformat": 4,
  "nbformat_minor": 0,
  "metadata": {
    "colab": {
      "provenance": [],
      "toc_visible": true
    },
    "kernelspec": {
      "name": "python3",
      "display_name": "Python 3"
    },
    "language_info": {
      "name": "python"
    }
  },
  "cells": [
    {
      "cell_type": "markdown",
      "source": [
        "# Setup environment & mount google drive\n",
        "import/install packages etc"
      ],
      "metadata": {
        "id": "gwjNLT8CXbmz"
      }
    },
    {
      "cell_type": "code",
      "execution_count": null,
      "metadata": {
        "id": "DRJs4u9BWsZK"
      },
      "outputs": [],
      "source": [
        "!python --version\n",
        "!pip install --upgrade numpy==1.24\n",
        "!pip install scikit-multiflow"
      ]
    },
    {
      "cell_type": "code",
      "source": [
        "import pandas as pd\n",
        "import numpy as np"
      ],
      "metadata": {
        "id": "Z2-08CCZDusM"
      },
      "execution_count": null,
      "outputs": []
    },
    {
      "cell_type": "code",
      "source": [
        "np.float = float    #module 'numpy' has no attribute 'float'\n",
        "np.int = int   #module 'numpy' has no attribute 'int'\n",
        "np.object = object    #module 'numpy' has no attribute 'object'\n",
        "np.bool = bool    #module 'numpy' has no attribute 'bool'"
      ],
      "metadata": {
        "id": "hZuliw-lDt5H"
      },
      "execution_count": null,
      "outputs": []
    },
    {
      "cell_type": "code",
      "source": [
        "import seaborn as sns\n",
        "import matplotlib.pyplot as plt\n",
        "from gensim.models import Word2Vec\n",
        "from sklearn.model_selection import train_test_split\n",
        "from sklearn.ensemble import RandomForestClassifier, AdaBoostClassifier\n",
        "from sklearn.neighbors import KNeighborsClassifier\n",
        "from sklearn import svm\n",
        "from sklearn.metrics import accuracy_score, precision_score, recall_score, f1_score, classification_report, confusion_matrix\n",
        "from skmultiflow.meta import OnlineBoostingClassifier, AdaptiveRandomForestClassifier\n",
        "from skmultiflow.lazy import KNNADWINClassifier\n",
        "from skmultiflow.data import FileStream\n",
        "from skmultiflow.utils.data_structures import ConfusionMatrix\n",
        "from skmultiflow.drift_detection.adwin import ADWIN"
      ],
      "metadata": {
        "id": "VyMoTMh4XfON"
      },
      "execution_count": null,
      "outputs": []
    },
    {
      "cell_type": "code",
      "source": [
        "from google.colab import drive\n",
        "drive.mount('/content/drive')\n",
        "#drive.mount(\"/content/drive\", force_remount=True)"
      ],
      "metadata": {
        "id": "cJU2ekEoXmja"
      },
      "execution_count": null,
      "outputs": []
    },
    {
      "cell_type": "code",
      "source": [
        "#Importing csv file\n",
        "df = pd.read_csv('/content/drive/MyDrive/code/malware-11-families-data-10000.csv') #10000 samples\n",
        "#df = pd.read_csv('/content/drive/MyDrive/code/malware-4-families-data-8609.csv') #8609 samples\n",
        "#df = pd.read_csv('/content/drive/MyDrive/code/malware-20-families-data-23777.csv') #23777 samples\n",
        "df\n",
        "#df.head()\n",
        "#df.describe()"
      ],
      "metadata": {
        "id": "VJIbOsX_12pB"
      },
      "execution_count": null,
      "outputs": []
    },
    {
      "cell_type": "code",
      "source": [
        "print(df.isnull().any())\n",
        "print(\"Number of columns with missing values: \", df.isnull().any().sum())"
      ],
      "metadata": {
        "id": "AUrz_nWr2KKX"
      },
      "execution_count": null,
      "outputs": []
    },
    {
      "cell_type": "markdown",
      "source": [
        "# Testing for Concept Drift using ADWIN"
      ],
      "metadata": {
        "id": "8PO48TwPJb0Y"
      }
    },
    {
      "cell_type": "code",
      "source": [
        "data_stream = df[\"target\"]\n",
        "\n",
        "adwin = ADWIN()\n",
        "\n",
        "previous_variance = 0\n",
        "for i in range(10000):\n",
        "    adwin.add_element(data_stream[i])\n",
        "    if adwin.detected_change():\n",
        "        print(\"Change detected in value {}, at index {}\".format(data_stream[i], i))\n",
        "        print(\"Current variance: {}. Previous variance {}\".format(adwin.variance, previous_variance))\n",
        "    previous_variance = adwin.variance"
      ],
      "metadata": {
        "id": "SaIEXVXfJcEH"
      },
      "execution_count": null,
      "outputs": []
    },
    {
      "cell_type": "markdown",
      "source": [
        "# ADAPTIVE MODELS:\n",
        "\n",
        "*   Adaptive Random Forest\n",
        "*   KNNADWIN\n",
        "*   Online Boosting\n",
        "\n"
      ],
      "metadata": {
        "id": "F8XfvTAjCcUj"
      }
    },
    {
      "cell_type": "code",
      "source": [
        "target_column = df['target']\n",
        "print(target_column)"
      ],
      "metadata": {
        "id": "hU09yb_VCm16"
      },
      "execution_count": null,
      "outputs": []
    },
    {
      "cell_type": "code",
      "source": [
        "#shuffle rows\n",
        "df = df.sample(frac = 1)\n",
        "df.to_csv('file-1.csv', index=False)\n",
        "df"
      ],
      "metadata": {
        "id": "ltDRPWCmCzXP"
      },
      "execution_count": null,
      "outputs": []
    },
    {
      "cell_type": "markdown",
      "source": [
        "# Adaptive Random Forest"
      ],
      "metadata": {
        "id": "Z3daFPJdGaJD"
      }
    },
    {
      "cell_type": "code",
      "source": [
        "stream = FileStream('file-1.csv')\n",
        "arf = AdaptiveRandomForestClassifier()\n",
        "\n",
        "n_samples = 0\n",
        "correct_cnt = 0\n",
        "max_samples = 10000\n",
        "\n",
        "#precision = TP/(TP+FP)\n",
        "#recall = TP/(TP+FN)\n",
        "#f1 = (2*precision*recall)/(precision+recall)\n",
        "\n",
        "truePositive = [0,0,0,0,0,0,0,0,0,0,0]\n",
        "predictedTotalPositiveValues = [0,0,0,0,0,0,0,0,0,0,0]\n",
        "instancesCountOfTarget = [0,0,0,0,0,0,0,0,0,0,0]\n",
        "\n",
        "cm1 = ConfusionMatrix(11,np.float64)\n",
        "\n",
        "while n_samples < max_samples and stream.has_more_samples():\n",
        "    X, y = stream.next_sample()\n",
        "    y_pred = arf.predict(X)\n",
        "\n",
        "    if y[0] == y_pred[0]:\n",
        "        correct_cnt += 1\n",
        "        truePositive[y_pred[0]] += 1 #incrementing correct predictions of target class y_pred[0]\n",
        "    predictedTotalPositiveValues[y_pred[0]] += 1 #increment total number of y_pred[0] predictions\n",
        "    instancesCountOfTarget[y[0]] += 1 #value to represent all instances of target\n",
        "\n",
        "    arf.partial_fit(X, y)\n",
        "    n_samples += 1\n",
        "    cm1.update(y, y_pred)\n",
        "    print(n_samples)\n",
        "\n",
        "print('Adaptive Random Forest:')\n",
        "print('{} samples analyzed.'.format(n_samples))\n",
        "print('Accuracy: {}'.format(correct_cnt / n_samples))\n",
        "\n",
        "print(\"truePositive: \", truePositive) #printing the array\n",
        "print(\"predictedTotalPositiveValues: \", predictedTotalPositiveValues) #printing the array\n",
        "print(\"instancesCountOfTarget: \", instancesCountOfTarget) #printing the array\n",
        "\n",
        "print('Family#        Precision        Recall        F1')\n",
        "for x in range(11):\n",
        "  precision = truePositive[x]/predictedTotalPositiveValues[x]\n",
        "  recall = truePositive[x]/instancesCountOfTarget[x]\n",
        "  f1 = (2*precision*recall)/(precision+recall)\n",
        "  print('{}:        {}        {}        {}'.format(x, precision, recall, f1))"
      ],
      "metadata": {
        "id": "HLsSd-6MGcEG"
      },
      "execution_count": null,
      "outputs": []
    },
    {
      "cell_type": "code",
      "source": [
        "cm1.matrix.view()"
      ],
      "metadata": {
        "id": "cWvS0Ib8Hh3o"
      },
      "execution_count": null,
      "outputs": []
    },
    {
      "cell_type": "code",
      "source": [
        "ax = sns.heatmap(cm1.matrix.view(), annot=True, cmap=\"YlGnBu\", fmt='.3g', xticklabels=['Allaple.A','Beebone','Diplugem','Obfuscator','OnLineGames','Startpage','Systex.A','Vobfus','Vundo','Winwebsec','Zbot'],yticklabels=['Allaple.A','Beebone','Diplugem','Obfuscator','OnLineGames','Startpage','Systex.A','Vobfus','Vundo','Winwebsec','Zbot'])\n",
        "ax.set_title('Confusion Matrix of Adaptive Random Forest Classifier')\n",
        "ax.set_xlabel('Predict')\n",
        "ax.set_ylabel('Actual')"
      ],
      "metadata": {
        "id": "f9cClDRwHjIs"
      },
      "execution_count": null,
      "outputs": []
    },
    {
      "cell_type": "markdown",
      "source": [
        "# KNNADWIN"
      ],
      "metadata": {
        "id": "Itb4EP0_IHSF"
      }
    },
    {
      "cell_type": "code",
      "source": [
        "stream1 = FileStream('file-1.csv')\n",
        "knn_adwin = KNNADWINClassifier(n_neighbors=7, leaf_size=40, max_window_size=1000)\n",
        "\n",
        "n_samples = 0\n",
        "correct_cnt = 0\n",
        "max_samples = 10000\n",
        "\n",
        "truePositive = [0,0,0,0,0,0,0,0,0,0,0]\n",
        "predictedTotalPositiveValues = [0,0,0,0,0,0,0,0,0,0,0]\n",
        "instancesCountOfTarget = [0,0,0,0,0,0,0,0,0,0,0]\n",
        "\n",
        "cm2 = ConfusionMatrix(11,np.float64)\n",
        "\n",
        "while n_samples < max_samples and stream1.has_more_samples():\n",
        "    X, y = stream1.next_sample()\n",
        "    y_pred = knn_adwin.predict(X)\n",
        "\n",
        "    if y[0] == y_pred[0]:\n",
        "        correct_cnt += 1\n",
        "        truePositive[y_pred[0]] += 1 #incrementing correct predictions of target class y_pred[0]\n",
        "    predictedTotalPositiveValues[y_pred[0]] += 1 #increment total number of y_pred[0] predictions\n",
        "    instancesCountOfTarget[y[0]] += 1 #value to represent all instances of target\n",
        "\n",
        "    knn_adwin.partial_fit(X, y)\n",
        "    n_samples += 1\n",
        "    cm2.update(y, y_pred)\n",
        "    print(n_samples)\n",
        "\n",
        "print('KNNADWIN:')\n",
        "print('{} samples analyzed.'.format(n_samples))\n",
        "print('Accuracy: {}'.format(correct_cnt / n_samples))\n",
        "\n",
        "print(\"truePositive: \", truePositive) #printing the array\n",
        "print(\"predictedTotalPositiveValues: \", predictedTotalPositiveValues) #printing the array\n",
        "print(\"instancesCountOfTarget: \", instancesCountOfTarget) #printing the array\n",
        "\n",
        "print('Family#        Precision        Recall        F1')\n",
        "for x in range(11):\n",
        "  precision = truePositive[x]/predictedTotalPositiveValues[x]\n",
        "  recall = truePositive[x]/instancesCountOfTarget[x]\n",
        "  f1 = (2*precision*recall)/(precision+recall)\n",
        "  print('{}:        {}        {}        {}'.format(x, precision, recall, f1))"
      ],
      "metadata": {
        "id": "IwculLiQIIz0"
      },
      "execution_count": null,
      "outputs": []
    },
    {
      "cell_type": "code",
      "source": [
        "cm2.matrix.view()"
      ],
      "metadata": {
        "id": "ji0LMswCIRpt"
      },
      "execution_count": null,
      "outputs": []
    },
    {
      "cell_type": "code",
      "source": [
        "ax = sns.heatmap(cm2.matrix.view(), annot=True, cmap=\"YlGnBu\", fmt='.3g', xticklabels=['Allaple.A','Beebone','Diplugem','Obfuscator','OnLineGames','Startpage','Systex.A','Vobfus','Vundo','Winwebsec','Zbot'],yticklabels=['Allaple.A','Beebone','Diplugem','Obfuscator','OnLineGames','Startpage','Systex.A','Vobfus','Vundo','Winwebsec','Zbot'])\n",
        "ax.set_title('Confusion Matrix of KNNADWIN Classifier')\n",
        "ax.set_xlabel('Predict')\n",
        "ax.set_ylabel('Actual')"
      ],
      "metadata": {
        "id": "AaEnLY-zITPk"
      },
      "execution_count": null,
      "outputs": []
    },
    {
      "cell_type": "markdown",
      "source": [
        "# Online Boosting"
      ],
      "metadata": {
        "id": "BX_QBg9nCwKe"
      }
    },
    {
      "cell_type": "code",
      "source": [
        "stream1 = FileStream('file-1.csv')\n",
        "online_boosting = OnlineBoostingClassifier()\n",
        "\n",
        "n_samples = 0\n",
        "correct_cnt = 0\n",
        "max_samples = 10000\n",
        "\n",
        "#precision = TP/(TP+FP)\n",
        "#recall = TP/(TP+FN)\n",
        "#f1 = (2*precision*recall)/(precision+recall)\n",
        "\n",
        "truePositive = [0,0,0,0,0,0,0,0,0,0,0]\n",
        "predictedTotalPositiveValues = [0,0,0,0,0,0,0,0,0,0,0]\n",
        "instancesCountOfTarget = [0,0,0,0,0,0,0,0,0,0,0]\n",
        "\n",
        "cm3 = ConfusionMatrix(11,np.float64)\n",
        "\n",
        "while n_samples < max_samples and stream1.has_more_samples():\n",
        "    X, y = stream1.next_sample()\n",
        "    y_pred = online_boosting.predict(X)\n",
        "\n",
        "    if y[0] == y_pred[0]:\n",
        "        correct_cnt += 1\n",
        "        truePositive[y_pred[0]] += 1 #incrementing correct predictions of target class y_pred[0]\n",
        "    predictedTotalPositiveValues[y_pred[0]] += 1 #increment total number of y_pred[0] predictions\n",
        "    instancesCountOfTarget[y[0]] += 1 #value to represent all instances of target\n",
        "\n",
        "    online_boosting.partial_fit(X, y, classes=np.unique(target_column))\n",
        "    n_samples += 1\n",
        "    cm3.update(y, y_pred)\n",
        "    print(n_samples)\n",
        "\n",
        "print('Online Boosting:')\n",
        "print('{} samples analyzed.'.format(n_samples))\n",
        "print('Accuracy: {}'.format(correct_cnt / n_samples))\n",
        "\n",
        "print(\"truePositive: \", truePositive) #printing the array\n",
        "print(\"predictedTotalPositiveValues: \", predictedTotalPositiveValues) #printing the array\n",
        "print(\"instancesCountOfTarget: \", instancesCountOfTarget) #printing the array\n",
        "\n",
        "print('Family#        Precision        Recall        F1')\n",
        "for x in range(11):\n",
        "  precision = truePositive[x]/predictedTotalPositiveValues[x]\n",
        "  recall = truePositive[x]/instancesCountOfTarget[x]\n",
        "  f1 = (2*precision*recall)/(precision+recall)\n",
        "  print('{}:        {}        {}        {}'.format(x, precision, recall, f1))"
      ],
      "metadata": {
        "id": "ueMPUdZkFifv"
      },
      "execution_count": null,
      "outputs": []
    },
    {
      "cell_type": "code",
      "source": [
        "cm3.matrix.view()"
      ],
      "metadata": {
        "id": "NksVyrJLFjsZ"
      },
      "execution_count": null,
      "outputs": []
    },
    {
      "cell_type": "code",
      "source": [
        "ax = sns.heatmap(cm3.matrix.view(), annot=True, cmap=\"YlGnBu\",fmt='.3g',xticklabels=['Allaple.A','Beebone','Diplugem','Obfuscator','OnLineGames','Startpage','Systex.A','Vobfus','Vundo','Winwebsec','Zbot'],yticklabels=['Allaple.A','Beebone','Diplugem','Obfuscator','OnLineGames','Startpage','Systex.A','Vobfus','Vundo','Winwebsec','Zbot'])\n",
        "\n",
        "ax.set_title('Confusion Matrix of Online Boosting Classifier')\n",
        "ax.set_xlabel('Predict')\n",
        "ax.set_ylabel('Actual')"
      ],
      "metadata": {
        "id": "0414IQPqFj2f"
      },
      "execution_count": null,
      "outputs": []
    },
    {
      "cell_type": "markdown",
      "source": [
        "# NON-ADAPTIVE MODELS:\n",
        "\n",
        "*   Random Forest\n",
        "*   K-Nearest Neighbors\n",
        "*   Support Vector Machine\n",
        "*   Word2Vec (CBOW & SKIPGRAM)\n",
        "*   AdaBoost"
      ],
      "metadata": {
        "id": "9SkLD67M_-Jx"
      }
    },
    {
      "cell_type": "markdown",
      "source": [
        "# Random Forest"
      ],
      "metadata": {
        "id": "lJeKg8_M4JcX"
      }
    },
    {
      "cell_type": "code",
      "source": [
        "#split into train, validation and test dataset\n",
        "x = df.drop('target', axis = 1).copy(deep = True)\n",
        "y = df['target'].copy(deep = True)\n",
        "\n",
        "x_train, x_test, y_train, y_test = train_test_split(x, y, test_size = 0.2,random_state=40, stratify=y)\n",
        "\n",
        "x_train, x_val, y_train, y_val = train_test_split(x_train, y_train, test_size = 0.1,random_state=40,stratify=y_train)\n"
      ],
      "metadata": {
        "id": "BpNJNd9O2NFO"
      },
      "execution_count": null,
      "outputs": []
    },
    {
      "cell_type": "code",
      "source": [
        "#RandomForest\n",
        "RFC = RandomForestClassifier(n_estimators=200, min_samples_split=5, random_state=40).fit(x_train, y_train)\n",
        "\n",
        "ypred = RFC.predict(x_val)\n",
        "acc = accuracy_score(y_val, ypred)\n",
        "pre = precision_score(y_val, ypred, average='macro')\n",
        "rec = recall_score(y_val, ypred, average='macro')\n",
        "f1 = f1_score(y_val, ypred, average='macro')\n",
        "print(\"\\nMetrics for Random Forest - Validation Data\")\n",
        "print(\"Accuracy: {0:.5f}\".format(acc))\n",
        "print(\"Precision: {0:.5f}\".format(pre))\n",
        "print(\"Recall: {0:.5f}\".format(rec))\n",
        "print(\"F1 Score: {0:.5f}\".format(f1))\n",
        "\n",
        "# 11 families\n",
        "target_names = ['Allaple.A','Beebone','Diplugem','Obfuscator','OnLineGames','Startpage','Systex.A','Vobfus','Vundo','Winwebsec','Zbot']\n",
        "\n",
        "# 20 families\n",
        "#target_names = ['Allaple.A','Beebone','Delf','Diplugem','Enterak.A','Expiro.BK','FakeRean','Injector','Lamechi.B','Obfuscator','OnLineGames','Small','Startpage','Systex.A','Toga!rfn','VBInject','Vobfus','Vundo','Winwebsec','Zbot']\n",
        "# 4 families\n",
        "#target_names = ['Obfuscator','Winwebsec','Zbot', 'Vobfus']\n",
        "\n",
        "print(classification_report(y_val, ypred, target_names=target_names))\n",
        "\n",
        "\n",
        "ypred = RFC.predict(x_test)\n",
        "\n",
        "#11 families\n",
        "ax = sns.heatmap(confusion_matrix(y_test,ypred), annot=True, fmt=\"d\",cmap=\"YlGnBu\",xticklabels=['Allaple.A','Beebone','Diplugem','Obfuscator','OnLineGames','Startpage','Systex.A','Vobfus','Vundo','Winwebsec','Zbot'],yticklabels=['Allaple.A','Beebone','Diplugem','Obfuscator','OnLineGames','Startpage','Systex.A','Vobfus','Vundo','Winwebsec','Zbot'])\n",
        "\n",
        "# 20 families\n",
        "#ax = sns.heatmap(confusion_matrix(y_test,ypred), annot=True, fmt=\"d\",cmap=\"YlGnBu\",xticklabels=['Allaple.A','Beebone','Delf','Diplugem','Enterak.A','Expiro.BK','FakeRean','Injector','Lamechi.B','Obfuscator','OnLineGames','Small','Startpage','Systex.A','Toga!rfn','VBInject','Vobfus','Vundo','Winwebsec','Zbot'],yticklabels=['Allaple.A','Beebone','Delf','Diplugem','Enterak.A','Expiro.BK','FakeRean','Injector','Lamechi.B','Obfuscator','OnLineGames','Small','Startpage','Systex.A','Toga!rfn','VBInject','Vobfus','Vundo','Winwebsec','Zbot'])\n",
        "# 4 families\n",
        "#ax = sns.heatmap(confusion_matrix(y_test,ypred), annot=True, fmt=\"d\",cmap=\"YlGnBu\",xticklabels=['Obfuscator','Winwebsec','Zbot','Vobfus'],yticklabels=['Obfuscator','Winwebsec','Zbot','Vobfus'])\n",
        "\n",
        "ax.set_title('Confusion Matrix of Random Forest Classifier')\n",
        "ax.set_xlabel('Predict')\n",
        "ax.set_ylabel('Actual')\n",
        "\n",
        "acc = accuracy_score(y_test, ypred)\n",
        "pre = precision_score(y_test, ypred, average='macro')\n",
        "rec = recall_score(y_test, ypred, average='macro')\n",
        "f1 = f1_score(y_test, ypred, average='macro')\n",
        "print(\"\\nMetrics for Random Forest - Test Data\")\n",
        "print(\"Accuracy: {0:.5f}\".format(acc))\n",
        "print(\"Precision: {0:.5f}\".format(pre))\n",
        "print(\"Recall: {0:.5f}\".format(rec))\n",
        "print(\"F1 Score: {0:.5f}\".format(f1))\n",
        "\n",
        "# 11 families\n",
        "target_names = ['Allaple.A','Beebone','Diplugem','Obfuscator','OnLineGames','Startpage','Systex.A','Vobfus','Vundo','Winwebsec','Zbot']\n",
        "\n",
        "# 20 families\n",
        "#target_names = ['Allaple.A','Beebone','Delf','Diplugem','Enterak.A','Expiro.BK','FakeRean','Injector','Lamechi.B','Obfuscator','OnLineGames','Small','Startpage','Systex.A','Toga!rfn','VBInject','Vobfus','Vundo','Winwebsec','Zbot']\n",
        "# 4 families\n",
        "#target_names = ['Obfuscator','Winwebsec','Zbot', 'Vobfus']\n",
        "\n",
        "print(classification_report(y_test, ypred, target_names=target_names))"
      ],
      "metadata": {
        "id": "W7w7vEK02lj3"
      },
      "execution_count": null,
      "outputs": []
    },
    {
      "cell_type": "markdown",
      "source": [
        "#K-Nearest Neighbors Classifier"
      ],
      "metadata": {
        "id": "b4G5Dj164S2Q"
      }
    },
    {
      "cell_type": "code",
      "source": [
        "#K-Nearest Neighbors\n",
        "KNC = KNeighborsClassifier().fit(x_train, y_train)\n",
        "\n",
        "ypred = KNC.predict(x_val)\n",
        "acc = accuracy_score(y_val, ypred)\n",
        "pre = precision_score(y_val, ypred, average='macro')\n",
        "rec = recall_score(y_val, ypred, average='macro')\n",
        "f1 = f1_score(y_val, ypred, average='macro')\n",
        "print(\"\\nMetrics for K-Nearest Neighbours - Validation Data\")\n",
        "print(\"Accuracy: {0:.5f}\".format(acc))\n",
        "print(\"Precision: {0:.5f}\".format(pre))\n",
        "print(\"Recall: {0:.5f}\".format(rec))\n",
        "print(\"F1 Score: {0:.5f}\".format(f1))\n",
        "\n",
        "target_names = ['Allaple.A','Beebone','Diplugem','Obfuscator','OnLineGames','Startpage','Systex.A','Vobfus','Vundo','Winwebsec','Zbot']\n",
        "print(classification_report(y_val, ypred, target_names=target_names))\n",
        "\n",
        "ypred = KNC.predict(x_test)\n",
        "\n",
        "#11 families\n",
        "ax = sns.heatmap(confusion_matrix(y_test,ypred), annot=True, fmt=\"d\",cmap=\"YlGnBu\",xticklabels=['Allaple.A','Beebone','Diplugem','Obfuscator','OnLineGames','Startpage','Systex.A','Vobfus','Vundo','Winwebsec','Zbot'],yticklabels=['Allaple.A','Beebone','Diplugem','Obfuscator','OnLineGames','Startpage','Systex.A','Vobfus','Vundo','Winwebsec','Zbot'])\n",
        "\n",
        "ax.set_title('Confusion Matrix of K Neighbors Classifier')\n",
        "ax.set_xlabel('Predict')\n",
        "ax.set_ylabel('Actual')\n",
        "\n",
        "acc = accuracy_score(y_test, ypred)\n",
        "pre = precision_score(y_test, ypred, average='macro')\n",
        "rec = recall_score(y_test, ypred, average='macro')\n",
        "f1 = f1_score(y_test, ypred, average='macro')\n",
        "print(\"\\nMetrics for K-Nearest Neighbours - Test Data\")\n",
        "print(\"Accuracy: {0:.5f}\".format(acc))\n",
        "print(\"Precision: {0:.5f}\".format(pre))\n",
        "print(\"Recall: {0:.5f}\".format(rec))\n",
        "print(\"F1 Score: {0:.5f}\".format(f1))\n",
        "\n",
        "target_names = ['Allaple.A','Beebone','Diplugem','Obfuscator','OnLineGames','Startpage','Systex.A','Vobfus','Vundo','Winwebsec','Zbot']\n",
        "print(classification_report(y_test, ypred, target_names=target_names))"
      ],
      "metadata": {
        "id": "sVjiBKY84R3d"
      },
      "execution_count": null,
      "outputs": []
    },
    {
      "cell_type": "markdown",
      "source": [
        "# AdaBoost"
      ],
      "metadata": {
        "id": "h2ETnUvf_x6z"
      }
    },
    {
      "cell_type": "code",
      "source": [
        "n_estimators = 300\n",
        "\n",
        "abc = AdaBoostClassifier(\n",
        "    n_estimators=n_estimators,\n",
        "    algorithm=\"SAMME\",\n",
        "    random_state=42,\n",
        ").fit(x_train, y_train)\n",
        "\n",
        "ypred = abc.predict(x_val)\n",
        "acc = accuracy_score(y_val, ypred)\n",
        "pre = precision_score(y_val, ypred, average='macro')\n",
        "rec = recall_score(y_val, ypred, average='macro')\n",
        "f1 = f1_score(y_val, ypred, average='macro')\n",
        "print(\"\\nMetrics for AdaBoost - Validation Data\")\n",
        "print(\"Accuracy: {0:.5f}\".format(acc))\n",
        "print(\"Precision: {0:.5f}\".format(pre))\n",
        "print(\"Recall: {0:.5f}\".format(rec))\n",
        "print(\"F1 Score: {0:.5f}\".format(f1))\n",
        "\n",
        "target_names = ['Allaple.A','Beebone','Diplugem','Obfuscator','OnLineGames','Startpage','Systex.A','Vobfus','Vundo','Winwebsec','Zbot']\n",
        "print(classification_report(y_val, ypred, target_names=target_names))\n",
        "\n",
        "\n",
        "ypred = abc.predict(x_test)\n",
        "\n",
        "#11 families\n",
        "ax = sns.heatmap(confusion_matrix(y_test,ypred), annot=True, fmt=\"d\",cmap=\"YlGnBu\",xticklabels=['Allaple.A','Beebone','Diplugem','Obfuscator','OnLineGames','Startpage','Systex.A','Vobfus','Vundo','Winwebsec','Zbot'],yticklabels=['Allaple.A','Beebone','Diplugem','Obfuscator','OnLineGames','Startpage','Systex.A','Vobfus','Vundo','Winwebsec','Zbot'])\n",
        "\n",
        "ax.set_title('Confusion Matrix of AdaBoost Classifier')\n",
        "ax.set_xlabel('Predict')\n",
        "ax.set_ylabel('Actual')\n",
        "\n",
        "acc = accuracy_score(y_test, ypred)\n",
        "pre = precision_score(y_test, ypred, average='macro')\n",
        "rec = recall_score(y_test, ypred, average='macro')\n",
        "f1 = f1_score(y_test, ypred, average='macro')\n",
        "print(\"\\nMetrics for AdaBoost - Test Data\")\n",
        "print(\"Accuracy: {0:.5f}\".format(acc))\n",
        "print(\"Precision: {0:.5f}\".format(pre))\n",
        "print(\"Recall: {0:.5f}\".format(rec))\n",
        "print(\"F1 Score: {0:.5f}\".format(f1))\n",
        "\n",
        "target_names = ['Allaple.A','Beebone','Diplugem','Obfuscator','OnLineGames','Startpage','Systex.A','Vobfus','Vundo','Winwebsec','Zbot']\n",
        "print(classification_report(y_test, ypred, target_names=target_names))"
      ],
      "metadata": {
        "id": "fXE8sqmm_0RZ"
      },
      "execution_count": null,
      "outputs": []
    },
    {
      "cell_type": "markdown",
      "source": [
        "#Support Vector Machine"
      ],
      "metadata": {
        "id": "2xw3xtHw4tgw"
      }
    },
    {
      "cell_type": "code",
      "source": [
        "#SVM\n",
        "SVM = svm.SVC(kernel='linear',C=1.0).fit(x_train, y_train)\n",
        "\n",
        "ypred = SVM.predict(x_val)\n",
        "acc = accuracy_score(y_val, ypred)\n",
        "pre = precision_score(y_val, ypred, average='macro')\n",
        "rec = recall_score(y_val, ypred, average='macro')\n",
        "f1 = f1_score(y_val, ypred, average='macro')\n",
        "print(\"\\nMetrics for Support Vector Machine - Validation Data\")\n",
        "print(\"Accuracy: {0:.5f}\".format(acc))\n",
        "print(\"Precision: {0:.5f}\".format(pre))\n",
        "print(\"Recall: {0:.5f}\".format(rec))\n",
        "print(\"F1 Score: {0:.5f}\".format(f1))\n",
        "\n",
        "target_names = ['Allaple.A','Beebone','Diplugem','Obfuscator','OnLineGames','Startpage','Systex.A','Vobfus','Vundo','Winwebsec','Zbot']\n",
        "print(classification_report(y_val, ypred, target_names=target_names))\n",
        "\n",
        "ypred = SVM.predict(x_test)\n",
        "\n",
        "#11 families\n",
        "ax = sns.heatmap(confusion_matrix(y_test,ypred), annot=True, fmt=\"d\",cmap=\"YlGnBu\",xticklabels=['Allaple.A','Beebone','Diplugem','Obfuscator','OnLineGames','Startpage','Systex.A','Vobfus','Vundo','Winwebsec','Zbot'],yticklabels=['Allaple.A','Beebone','Diplugem','Obfuscator','OnLineGames','Startpage','Systex.A','Vobfus','Vundo','Winwebsec','Zbot'])\n",
        "\n",
        "ax.set_title('Confusion Matrix of Support Vector Machine')\n",
        "ax.set_xlabel('Predict')\n",
        "ax.set_ylabel('Actual')\n",
        "\n",
        "acc = accuracy_score(y_test, ypred)\n",
        "pre = precision_score(y_test, ypred, average='macro')\n",
        "rec = recall_score(y_test, ypred, average='macro')\n",
        "f1 = f1_score(y_test, ypred, average='macro')\n",
        "print(\"\\nMetrics for Support Vector Machine - Test Data\")\n",
        "print(\"Accuracy: {0:.5f}\".format(acc))\n",
        "print(\"Precision: {0:.5f}\".format(pre))\n",
        "print(\"Recall: {0:.5f}\".format(rec))\n",
        "print(\"F1 Score: {0:.5f}\".format(f1))\n",
        "\n",
        "target_names = ['Allaple.A','Beebone','Diplugem','Obfuscator','OnLineGames','Startpage','Systex.A','Vobfus','Vundo','Winwebsec','Zbot']\n",
        "print(classification_report(y_test, ypred, target_names=target_names))"
      ],
      "metadata": {
        "id": "O4I5FV614vyM"
      },
      "execution_count": null,
      "outputs": []
    },
    {
      "cell_type": "markdown",
      "source": [
        "# Word2Vec"
      ],
      "metadata": {
        "id": "v5q_iIgt6AHX"
      }
    },
    {
      "cell_type": "markdown",
      "source": [
        "## CBOW"
      ],
      "metadata": {
        "id": "yXluTVnp6K2f"
      }
    },
    {
      "cell_type": "code",
      "source": [
        "df_enc = pd.read_csv('/content/drive/MyDrive/code/malware-11-families-data-10000.csv')\n",
        "df_enc1 = pd.read_csv('/content/drive/MyDrive/code/malware-11-families-data-10000.csv')\n",
        "\n",
        "first_column = df_enc.pop('target')\n",
        "df_enc.insert(0, 'target', first_column)\n",
        "\n",
        "first_column = df_enc1.pop('target')\n",
        "df_enc1.insert(0, 'target', first_column)\n",
        "\n",
        "df_enc\n",
        "#make sure target column is at beginning"
      ],
      "metadata": {
        "id": "3Mo1H0iN6Orr"
      },
      "execution_count": null,
      "outputs": []
    },
    {
      "cell_type": "code",
      "source": [
        "columns_without_target=df_enc.columns[1:]\n",
        "\n",
        "df_enc['op_sequence']=df_enc[columns_without_target].apply(lambda x: [str(opcode) for opcode in x], axis=1)\n",
        "df_enc['op_sequence']"
      ],
      "metadata": {
        "id": "oGiw-tTY7eTw"
      },
      "execution_count": null,
      "outputs": []
    },
    {
      "cell_type": "code",
      "source": [
        "df_enc=df_enc.drop(columns=columns_without_target)\n",
        "df_enc"
      ],
      "metadata": {
        "id": "vGsf-RVq7gaY"
      },
      "execution_count": null,
      "outputs": []
    },
    {
      "cell_type": "code",
      "source": [
        "#CBOW:\n",
        "cbow = Word2Vec(sentences=df_enc['op_sequence'],vector_size=425,window=5,min_count=1,workers=4,sg=0) #sg=0 means not skip gram\n",
        "\n",
        "def file_embeddings(opcodes):\n",
        "\tvectors = [cbow.wv[str(opcode)] for opcode in opcodes if str(opcode) in cbow.wv]\n",
        "\treturn sum(vectors) / len(vectors) if vectors else [0] * cbow.vector_size\n",
        "\n",
        "df_enc['op_embeddings'] = df_enc['op_sequence'].apply(file_embeddings)\n",
        "df_enc"
      ],
      "metadata": {
        "id": "r4pKQ2EF7jVj"
      },
      "execution_count": null,
      "outputs": []
    },
    {
      "cell_type": "code",
      "source": [
        "x = list(df_enc['op_embeddings'])\n",
        "y = df_enc['target']\n",
        "\n",
        "x_train, x_test, y_train, y_test = train_test_split(x, y, test_size = 0.2,random_state=40, stratify=y)\n",
        "\n",
        "x_train, x_val, y_train, y_val = train_test_split(x_train, y_train, test_size = 0.1,random_state=40,stratify=y_train)"
      ],
      "metadata": {
        "id": "EVB106x77lfw"
      },
      "execution_count": null,
      "outputs": []
    },
    {
      "cell_type": "markdown",
      "source": [
        "### RF with CBOW"
      ],
      "metadata": {
        "id": "PFU6iJtA_DCC"
      }
    },
    {
      "cell_type": "code",
      "source": [
        "#RandomForest with CBOW\n",
        "RFC = RandomForestClassifier(n_estimators=200, min_samples_split=5, random_state=40).fit(x_train, y_train)\n",
        "\n",
        "ypred = RFC.predict(x_val)\n",
        "acc = accuracy_score(y_val, ypred)\n",
        "pre = precision_score(y_val, ypred, average='macro')\n",
        "rec = recall_score(y_val, ypred, average='macro')\n",
        "f1 = f1_score(y_val, ypred, average='macro')\n",
        "print(\"\\nMetrics for Random Forest with CBOW - Validation Data\")\n",
        "print(\"Accuracy: {0:.5f}\".format(acc))\n",
        "print(\"Precision: {0:.5f}\".format(pre))\n",
        "print(\"Recall: {0:.5f}\".format(rec))\n",
        "print(\"F1 Score: {0:.5f}\".format(f1))\n",
        "\n",
        "target_names = ['Allaple.A','Beebone','Diplugem','Obfuscator','OnLineGames','Startpage','Systex.A','Vobfus','Vundo','Winwebsec','Zbot']\n",
        "print(classification_report(y_val, ypred, target_names=target_names))\n",
        "\n",
        "ypred = RFC.predict(x_test)\n",
        "\n",
        "#11 families\n",
        "ax = sns.heatmap(confusion_matrix(y_test,ypred), annot=True, fmt=\"d\",cmap=\"YlGnBu\",xticklabels=['Allaple.A','Beebone','Diplugem','Obfuscator','OnLineGames','Startpage','Systex.A','Vobfus','Vundo','Winwebsec','Zbot'],yticklabels=['Allaple.A','Beebone','Diplugem','Obfuscator','OnLineGames','Startpage','Systex.A','Vobfus','Vundo','Winwebsec','Zbot'])\n",
        "\n",
        "ax.set_title('Confusion Matrix of Random Forest Classifier with CBOW')\n",
        "ax.set_xlabel('Predict')\n",
        "ax.set_ylabel('Actual')\n",
        "\n",
        "acc = accuracy_score(y_test, ypred)\n",
        "pre = precision_score(y_test, ypred, average='macro')\n",
        "rec = recall_score(y_test, ypred, average='macro')\n",
        "f1 = f1_score(y_test, ypred, average='macro')\n",
        "print(\"\\nMetrics for Random Forest with CBOW - Test Data\")\n",
        "print(\"Accuracy: {0:.5f}\".format(acc))\n",
        "print(\"Precision: {0:.5f}\".format(pre))\n",
        "print(\"Recall: {0:.5f}\".format(rec))\n",
        "print(\"F1 Score: {0:.5f}\".format(f1))\n",
        "\n",
        "target_names = ['Allaple.A','Beebone','Diplugem','Obfuscator','OnLineGames','Startpage','Systex.A','Vobfus','Vundo','Winwebsec','Zbot']\n",
        "print(classification_report(y_test, ypred, target_names=target_names))"
      ],
      "metadata": {
        "id": "3SB8dQ4K9fvU"
      },
      "execution_count": null,
      "outputs": []
    },
    {
      "cell_type": "markdown",
      "source": [
        "### KNN with CBOW"
      ],
      "metadata": {
        "id": "ZRwdGZoE_UtK"
      }
    },
    {
      "cell_type": "code",
      "source": [
        "#KNeighbors with CBOW\n",
        "KNC = KNeighborsClassifier().fit(x_train, y_train) #n_neighbors default = 5\n",
        "\n",
        "ypred = KNC.predict(x_val)\n",
        "acc = accuracy_score(y_val, ypred)\n",
        "pre = precision_score(y_val, ypred, average='macro')\n",
        "rec = recall_score(y_val, ypred, average='macro')\n",
        "f1 = f1_score(y_val, ypred, average='macro')\n",
        "print(\"\\nMetrics for K-Nearest Neighbours with CBOW - Validation Data\")\n",
        "print(\"Accuracy: {0:.5f}\".format(acc))\n",
        "print(\"Precision: {0:.5f}\".format(pre))\n",
        "print(\"Recall: {0:.5f}\".format(rec))\n",
        "print(\"F1 Score: {0:.5f}\".format(f1))\n",
        "\n",
        "target_names = ['Allaple.A','Beebone','Diplugem','Obfuscator','OnLineGames','Startpage','Systex.A','Vobfus','Vundo','Winwebsec','Zbot']\n",
        "print(classification_report(y_val, ypred, target_names=target_names))\n",
        "\n",
        "ypred = KNC.predict(x_test)\n",
        "\n",
        "#11 families\n",
        "ax = sns.heatmap(confusion_matrix(y_test,ypred), annot=True, fmt=\"d\",cmap=\"YlGnBu\",xticklabels=['Allaple.A','Beebone','Diplugem','Obfuscator','OnLineGames','Startpage','Systex.A','Vobfus','Vundo','Winwebsec','Zbot'],yticklabels=['Allaple.A','Beebone','Diplugem','Obfuscator','OnLineGames','Startpage','Systex.A','Vobfus','Vundo','Winwebsec','Zbot'])\n",
        "\n",
        "ax.set_title('Confusion Matrix of K Neighbors Classifier with CBOW')\n",
        "ax.set_xlabel('Predict')\n",
        "ax.set_ylabel('Actual')\n",
        "\n",
        "acc = accuracy_score(y_test, ypred)\n",
        "pre = precision_score(y_test, ypred, average='macro')\n",
        "rec = recall_score(y_test, ypred, average='macro')\n",
        "f1 = f1_score(y_test, ypred, average='macro')\n",
        "print(\"\\nMetrics for K-Nearest Neighbours with CBOW - Test Data\")\n",
        "print(\"Accuracy: {0:.5f}\".format(acc))\n",
        "print(\"Precision: {0:.5f}\".format(pre))\n",
        "print(\"Recall: {0:.5f}\".format(rec))\n",
        "print(\"F1 Score: {0:.5f}\".format(f1))\n",
        "\n",
        "target_names = ['Allaple.A','Beebone','Diplugem','Obfuscator','OnLineGames','Startpage','Systex.A','Vobfus','Vundo','Winwebsec','Zbot']\n",
        "print(classification_report(y_test, ypred, target_names=target_names))"
      ],
      "metadata": {
        "id": "f9FeBioB9g1V"
      },
      "execution_count": null,
      "outputs": []
    },
    {
      "cell_type": "markdown",
      "source": [
        "### SVM with CBOW"
      ],
      "metadata": {
        "id": "kBkpERZd_XF0"
      }
    },
    {
      "cell_type": "code",
      "source": [
        "#SVM with CBOW\n",
        "SVM = svm.SVC(kernel='linear',C=1.0).fit(x_train, y_train)\n",
        "\n",
        "ypred = SVM.predict(x_val)\n",
        "acc = accuracy_score(y_val, ypred)\n",
        "pre = precision_score(y_val, ypred, average='macro')\n",
        "rec = recall_score(y_val, ypred, average='macro')\n",
        "f1 = f1_score(y_val, ypred, average='macro')\n",
        "print(\"\\nMetrics for Support Vector Machine with CBOW - Validation Data\")\n",
        "print(\"Accuracy: {0:.5f}\".format(acc))\n",
        "print(\"Precision: {0:.5f}\".format(pre))\n",
        "print(\"Recall: {0:.5f}\".format(rec))\n",
        "print(\"F1 Score: {0:.5f}\".format(f1))\n",
        "\n",
        "target_names = ['Allaple.A','Beebone','Diplugem','Obfuscator','OnLineGames','Startpage','Systex.A','Vobfus','Vundo','Winwebsec','Zbot']\n",
        "print(classification_report(y_val, ypred, target_names=target_names))\n",
        "\n",
        "ypred = SVM.predict(x_test)\n",
        "#20 families\n",
        "#ax = sns.heatmap(confusion_matrix(y_test,ypred), annot=True, fmt=\"d\",cmap=\"YlGnBu\",xticklabels=['Allaple.A','Beebone','Delf','Diplugem','Enterak.A','Expiro.BK','FakeRean','Injector','Lamechi.B','Obfuscator','OnLineGames','Small','Startpage','Systex.A','Toga!rfn','VBInject','Vobfus','Vundo','Winwebsec','Zbot'],yticklabels=['Allaple.A','Beebone','Delf','Diplugem','Enterak.A','Expiro.BK','FakeRean','Injector','Lamechi.B','Obfuscator','OnLineGames','Small','Startpage','Systex.A','Toga!rfn','VBInject','Vobfus','Vundo','Winwebsec','Zbot'])\n",
        "\n",
        "#11 families\n",
        "ax = sns.heatmap(confusion_matrix(y_test,ypred), annot=True, fmt=\"d\",cmap=\"YlGnBu\",xticklabels=['Allaple.A','Beebone','Diplugem','Obfuscator','OnLineGames','Startpage','Systex.A','Vobfus','Vundo','Winwebsec','Zbot'],yticklabels=['Allaple.A','Beebone','Diplugem','Obfuscator','OnLineGames','Startpage','Systex.A','Vobfus','Vundo','Winwebsec','Zbot'])\n",
        "\n",
        "ax.set_title('Confusion Matrix of Support Vector Machine with CBOW')\n",
        "ax.set_xlabel('Predict')\n",
        "ax.set_ylabel('Actual')\n",
        "\n",
        "acc = accuracy_score(y_test, ypred)\n",
        "pre = precision_score(y_test, ypred, average='macro')\n",
        "rec = recall_score(y_test, ypred, average='macro')\n",
        "f1 = f1_score(y_test, ypred, average='macro')\n",
        "print(\"\\nMetrics for Support Vector Machine with CBOW - Test Data\")\n",
        "print(\"Accuracy: {0:.5f}\".format(acc))\n",
        "print(\"Precision: {0:.5f}\".format(pre))\n",
        "print(\"Recall: {0:.5f}\".format(rec))\n",
        "print(\"F1 Score: {0:.5f}\".format(f1))\n",
        "\n",
        "target_names = ['Allaple.A','Beebone','Diplugem','Obfuscator','OnLineGames','Startpage','Systex.A','Vobfus','Vundo','Winwebsec','Zbot']\n",
        "print(classification_report(y_test, ypred, target_names=target_names))"
      ],
      "metadata": {
        "id": "ULcTyve-9nCW"
      },
      "execution_count": null,
      "outputs": []
    },
    {
      "cell_type": "markdown",
      "source": [
        "## Skip-Gram"
      ],
      "metadata": {
        "id": "Wzk5RAMx6MQH"
      }
    },
    {
      "cell_type": "code",
      "source": [
        "columns_without_target=df_enc1.columns[1:]\n",
        "\n",
        "df_enc1['op_sequence']=df_enc1[columns_without_target].apply(lambda x: [str(opcode) for opcode in x], axis=1)\n",
        "df_enc1['op_sequence']"
      ],
      "metadata": {
        "id": "FwocsFNA6OCC"
      },
      "execution_count": null,
      "outputs": []
    },
    {
      "cell_type": "code",
      "source": [
        "df_enc1=df_enc1.drop(columns=columns_without_target)\n",
        "df_enc1"
      ],
      "metadata": {
        "id": "dWv4P26Q92vl"
      },
      "execution_count": null,
      "outputs": []
    },
    {
      "cell_type": "code",
      "source": [
        "#SKIPGRAM:\n",
        "cbow = Word2Vec(sentences=df_enc1['op_sequence'],vector_size=425,window=5,min_count=1,workers=4) #DEFAULT IS SKIPGRAM\n",
        "\n",
        "def file_embeddings(opcodes):\n",
        "\tvectors = [cbow.wv[str(opcode)] for opcode in opcodes if str(opcode) in cbow.wv]\n",
        "\treturn sum(vectors) / len(vectors) if vectors else [0] * cbow.vector_size\n",
        "\n",
        "df_enc1['op_embeddings'] = df_enc1['op_sequence'].apply(file_embeddings)\n",
        "df_enc1"
      ],
      "metadata": {
        "id": "cHCU6XG294dD"
      },
      "execution_count": null,
      "outputs": []
    },
    {
      "cell_type": "code",
      "source": [
        "x = list(df_enc1['op_embeddings'])\n",
        "y = df_enc1['target']\n",
        "\n",
        "x_train, x_test, y_train, y_test = train_test_split(x, y, test_size = 0.2,random_state=40, stratify=y)\n",
        "\n",
        "x_train, x_val, y_train, y_val = train_test_split(x_train, y_train, test_size = 0.1,random_state=40,stratify=y_train)"
      ],
      "metadata": {
        "id": "fcVTYEa397Gq"
      },
      "execution_count": null,
      "outputs": []
    },
    {
      "cell_type": "markdown",
      "source": [
        "### RF with SKIPGRAM"
      ],
      "metadata": {
        "id": "fn9E7ooM_kIA"
      }
    },
    {
      "cell_type": "code",
      "source": [
        "#RandomForest with SKIPGRAM\n",
        "RFC = RandomForestClassifier(n_estimators=200, min_samples_split=5, random_state=40).fit(x_train, y_train)\n",
        "\n",
        "ypred = RFC.predict(x_val)\n",
        "acc = accuracy_score(y_val, ypred)\n",
        "pre = precision_score(y_val, ypred, average='macro')\n",
        "rec = recall_score(y_val, ypred, average='macro')\n",
        "f1 = f1_score(y_val, ypred, average='macro')\n",
        "print(\"\\nMetrics for Random Forest with SKIPGRAM - Validation Data\")\n",
        "print(\"Accuracy: {0:.5f}\".format(acc))\n",
        "print(\"Precision: {0:.5f}\".format(pre))\n",
        "print(\"Recall: {0:.5f}\".format(rec))\n",
        "print(\"F1 Score: {0:.5f}\".format(f1))\n",
        "\n",
        "target_names = ['Allaple.A','Beebone','Diplugem','Obfuscator','OnLineGames','Startpage','Systex.A','Vobfus','Vundo','Winwebsec','Zbot']\n",
        "print(classification_report(y_val, ypred, target_names=target_names))\n",
        "\n",
        "ypred = RFC.predict(x_test)\n",
        "\n",
        "#11 families\n",
        "ax = sns.heatmap(confusion_matrix(y_test,ypred), annot=True, fmt=\"d\",cmap=\"YlGnBu\",xticklabels=['Allaple.A','Beebone','Diplugem','Obfuscator','OnLineGames','Startpage','Systex.A','Vobfus','Vundo','Winwebsec','Zbot'],yticklabels=['Allaple.A','Beebone','Diplugem','Obfuscator','OnLineGames','Startpage','Systex.A','Vobfus','Vundo','Winwebsec','Zbot'])\n",
        "\n",
        "ax.set_title('Confusion Matrix of Random Forest Classifier with SKIPGRAM')\n",
        "ax.set_xlabel('Predict')\n",
        "ax.set_ylabel('Actual')\n",
        "\n",
        "acc = accuracy_score(y_test, ypred)\n",
        "pre = precision_score(y_test, ypred, average='macro')\n",
        "rec = recall_score(y_test, ypred, average='macro')\n",
        "f1 = f1_score(y_test, ypred, average='macro')\n",
        "print(\"\\nMetrics for Random Forest with SKIPGRAM - Test Data\")\n",
        "print(\"Accuracy: {0:.5f}\".format(acc))\n",
        "print(\"Precision: {0:.5f}\".format(pre))\n",
        "print(\"Recall: {0:.5f}\".format(rec))\n",
        "print(\"F1 Score: {0:.5f}\".format(f1))\n",
        "\n",
        "target_names = ['Allaple.A','Beebone','Diplugem','Obfuscator','OnLineGames','Startpage','Systex.A','Vobfus','Vundo','Winwebsec','Zbot']\n",
        "print(classification_report(y_test, ypred, target_names=target_names))"
      ],
      "metadata": {
        "id": "pBqELcfk-V1K"
      },
      "execution_count": null,
      "outputs": []
    },
    {
      "cell_type": "markdown",
      "source": [
        "### KNN with SKIPGRAM"
      ],
      "metadata": {
        "id": "S7TV21qm_nMS"
      }
    },
    {
      "cell_type": "code",
      "source": [
        "#KNeighbors with SKIPGRAM\n",
        "KNC = KNeighborsClassifier().fit(x_train, y_train) #n_neighbors default = 5\n",
        "\n",
        "ypred = RFC.predict(x_val)\n",
        "acc = accuracy_score(y_val, ypred)\n",
        "pre = precision_score(y_val, ypred, average='macro')\n",
        "rec = recall_score(y_val, ypred, average='macro')\n",
        "f1 = f1_score(y_val, ypred, average='macro')\n",
        "print(\"\\nMetrics for K-Nearest Neighbours with SKIPGRAM - Validation Data\")\n",
        "print(\"Accuracy: {0:.5f}\".format(acc))\n",
        "print(\"Precision: {0:.5f}\".format(pre))\n",
        "print(\"Recall: {0:.5f}\".format(rec))\n",
        "print(\"F1 Score: {0:.5f}\".format(f1))\n",
        "\n",
        "target_names = ['Allaple.A','Beebone','Diplugem','Obfuscator','OnLineGames','Startpage','Systex.A','Vobfus','Vundo','Winwebsec','Zbot']\n",
        "print(classification_report(y_val, ypred, target_names=target_names))\n",
        "\n",
        "ypred = KNC.predict(x_test)\n",
        "\n",
        "#11 families\n",
        "ax = sns.heatmap(confusion_matrix(y_test,ypred), annot=True, fmt=\"d\",cmap=\"YlGnBu\",xticklabels=['Allaple.A','Beebone','Diplugem','Obfuscator','OnLineGames','Startpage','Systex.A','Vobfus','Vundo','Winwebsec','Zbot'],yticklabels=['Allaple.A','Beebone','Diplugem','Obfuscator','OnLineGames','Startpage','Systex.A','Vobfus','Vundo','Winwebsec','Zbot'])\n",
        "\n",
        "ax.set_title('Confusion Matrix of K Neighbors Classifier with SKIPGRAM')\n",
        "ax.set_xlabel('Predict')\n",
        "ax.set_ylabel('Actual')\n",
        "\n",
        "acc = accuracy_score(y_test, ypred)\n",
        "pre = precision_score(y_test, ypred, average='macro')\n",
        "rec = recall_score(y_test, ypred, average='macro')\n",
        "f1 = f1_score(y_test, ypred, average='macro')\n",
        "print(\"\\nMetrics for K-Nearest Neighbours with SKIPGRAM - Test Data\")\n",
        "print(\"Accuracy: {0:.5f}\".format(acc))\n",
        "print(\"Precision: {0:.5f}\".format(pre))\n",
        "print(\"Recall: {0:.5f}\".format(rec))\n",
        "print(\"F1 Score: {0:.5f}\".format(f1))\n",
        "\n",
        "target_names = ['Allaple.A','Beebone','Diplugem','Obfuscator','OnLineGames','Startpage','Systex.A','Vobfus','Vundo','Winwebsec','Zbot']\n",
        "print(classification_report(y_test, ypred, target_names=target_names))"
      ],
      "metadata": {
        "id": "iYwpvhlH-Zig"
      },
      "execution_count": null,
      "outputs": []
    },
    {
      "cell_type": "markdown",
      "source": [
        "### SVM with SKIPGRAM"
      ],
      "metadata": {
        "id": "AI1_ssAu_sNV"
      }
    },
    {
      "cell_type": "code",
      "source": [
        "#SVM with SKIPGRAM\n",
        "SVM = svm.SVC(kernel='linear',C=1.0).fit(x_train, y_train)\n",
        "\n",
        "ypred = RFC.predict(x_val)\n",
        "acc = accuracy_score(y_val, ypred)\n",
        "pre = precision_score(y_val, ypred, average='macro')\n",
        "rec = recall_score(y_val, ypred, average='macro')\n",
        "f1 = f1_score(y_val, ypred, average='macro')\n",
        "print(\"\\nMetrics for Support Vector Machine with SKIPGRAM - Validation Data\")\n",
        "print(\"Accuracy: {0:.5f}\".format(acc))\n",
        "print(\"Precision: {0:.5f}\".format(pre))\n",
        "print(\"Recall: {0:.5f}\".format(rec))\n",
        "print(\"F1 Score: {0:.5f}\".format(f1))\n",
        "\n",
        "target_names = ['Allaple.A','Beebone','Diplugem','Obfuscator','OnLineGames','Startpage','Systex.A','Vobfus','Vundo','Winwebsec','Zbot']\n",
        "print(classification_report(y_val, ypred, target_names=target_names))\n",
        "\n",
        "ypred = SVM.predict(x_test)\n",
        "\n",
        "#11 families\n",
        "ax = sns.heatmap(confusion_matrix(y_test,ypred), annot=True, fmt=\"d\",cmap=\"YlGnBu\",xticklabels=['Allaple.A','Beebone','Diplugem','Obfuscator','OnLineGames','Startpage','Systex.A','Vobfus','Vundo','Winwebsec','Zbot'],yticklabels=['Allaple.A','Beebone','Diplugem','Obfuscator','OnLineGames','Startpage','Systex.A','Vobfus','Vundo','Winwebsec','Zbot'])\n",
        "\n",
        "ax.set_title('Confusion Matrix of Support Vector Machine with SKIPGRAM')\n",
        "ax.set_xlabel('Predict')\n",
        "ax.set_ylabel('Actual')\n",
        "\n",
        "acc = accuracy_score(y_test, ypred)\n",
        "pre = precision_score(y_test, ypred, average='macro')\n",
        "rec = recall_score(y_test, ypred, average='macro')\n",
        "f1 = f1_score(y_test, ypred, average='macro')\n",
        "print(\"\\nMetrics for Support Vector Machine with SKIPGRAM - Test Data\")\n",
        "print(\"Accuracy: {0:.5f}\".format(acc))\n",
        "print(\"Precision: {0:.5f}\".format(pre))\n",
        "print(\"Recall: {0:.5f}\".format(rec))\n",
        "print(\"F1 Score: {0:.5f}\".format(f1))\n",
        "\n",
        "target_names = ['Allaple.A','Beebone','Diplugem','Obfuscator','OnLineGames','Startpage','Systex.A','Vobfus','Vundo','Winwebsec','Zbot']\n",
        "print(classification_report(y_test, ypred, target_names=target_names))"
      ],
      "metadata": {
        "id": "_yZPKohS-fd7"
      },
      "execution_count": null,
      "outputs": []
    }
  ]
}